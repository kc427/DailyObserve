{
 "cells": [
  {
   "cell_type": "code",
   "execution_count": 2,
   "metadata": {},
   "outputs": [
    {
     "data": {
      "text/html": [
       "<div>\n",
       "<style scoped>\n",
       "    .dataframe tbody tr th:only-of-type {\n",
       "        vertical-align: middle;\n",
       "    }\n",
       "\n",
       "    .dataframe tbody tr th {\n",
       "        vertical-align: top;\n",
       "    }\n",
       "\n",
       "    .dataframe thead th {\n",
       "        text-align: right;\n",
       "    }\n",
       "</style>\n",
       "<table border=\"1\" class=\"dataframe\">\n",
       "  <thead>\n",
       "    <tr style=\"text-align: right;\">\n",
       "      <th></th>\n",
       "      <th>id</th>\n",
       "      <th>enroll_unit_id</th>\n",
       "      <th>school_id</th>\n",
       "      <th>stu_province_id</th>\n",
       "      <th>enroll_year</th>\n",
       "      <th>batch_name</th>\n",
       "      <th>admission_count</th>\n",
       "      <th>min_score</th>\n",
       "      <th>min_score_rank</th>\n",
       "      <th>min_score_diff</th>\n",
       "      <th>avg_score</th>\n",
       "      <th>avg_score_rank</th>\n",
       "      <th>max_score</th>\n",
       "      <th>max_score_rank</th>\n",
       "      <th>create_time</th>\n",
       "      <th>update_time</th>\n",
       "      <th>wenli</th>\n",
       "    </tr>\n",
       "  </thead>\n",
       "  <tbody>\n",
       "    <tr>\n",
       "      <th>0</th>\n",
       "      <td>1</td>\n",
       "      <td>52ac2e9a747aec013fcf5190</td>\n",
       "      <td>52ac2e9a747aec013fcf5190</td>\n",
       "      <td>510000000000</td>\n",
       "      <td>2020</td>\n",
       "      <td>本科第一批</td>\n",
       "      <td>NaN</td>\n",
       "      <td>646</td>\n",
       "      <td>1</td>\n",
       "      <td>119.0</td>\n",
       "      <td>NaN</td>\n",
       "      <td>NaN</td>\n",
       "      <td>NaN</td>\n",
       "      <td>NaN</td>\n",
       "      <td>2021-03-21 17:30:04</td>\n",
       "      <td>2021-03-21 17:30:04</td>\n",
       "      <td>1</td>\n",
       "    </tr>\n",
       "    <tr>\n",
       "      <th>1</th>\n",
       "      <td>2</td>\n",
       "      <td>52ac2e9a747aec013fcf5190</td>\n",
       "      <td>52ac2e9a747aec013fcf5190</td>\n",
       "      <td>510000000000</td>\n",
       "      <td>2019</td>\n",
       "      <td>本科第一批</td>\n",
       "      <td>23.0</td>\n",
       "      <td>658</td>\n",
       "      <td>38</td>\n",
       "      <td>118.0</td>\n",
       "      <td>NaN</td>\n",
       "      <td>NaN</td>\n",
       "      <td>NaN</td>\n",
       "      <td>NaN</td>\n",
       "      <td>2021-03-21 17:30:05</td>\n",
       "      <td>2021-03-21 17:30:05</td>\n",
       "      <td>1</td>\n",
       "    </tr>\n",
       "    <tr>\n",
       "      <th>2</th>\n",
       "      <td>3</td>\n",
       "      <td>52ac2e9a747aec013fcf5190</td>\n",
       "      <td>52ac2e9a747aec013fcf5190</td>\n",
       "      <td>510000000000</td>\n",
       "      <td>2018</td>\n",
       "      <td>本科第一批</td>\n",
       "      <td>24.0</td>\n",
       "      <td>642</td>\n",
       "      <td>39</td>\n",
       "      <td>89.0</td>\n",
       "      <td>648.0</td>\n",
       "      <td>37.0</td>\n",
       "      <td>663.0</td>\n",
       "      <td>32.0</td>\n",
       "      <td>2021-03-21 17:30:05</td>\n",
       "      <td>2021-03-21 17:30:05</td>\n",
       "      <td>1</td>\n",
       "    </tr>\n",
       "    <tr>\n",
       "      <th>3</th>\n",
       "      <td>4</td>\n",
       "      <td>52ac2e9a747aec013fcf5190</td>\n",
       "      <td>52ac2e9a747aec013fcf5190</td>\n",
       "      <td>510000000000</td>\n",
       "      <td>2017</td>\n",
       "      <td>本科第一批</td>\n",
       "      <td>NaN</td>\n",
       "      <td>650</td>\n",
       "      <td>25</td>\n",
       "      <td>113.0</td>\n",
       "      <td>NaN</td>\n",
       "      <td>NaN</td>\n",
       "      <td>668.0</td>\n",
       "      <td>10.0</td>\n",
       "      <td>2021-03-21 17:30:05</td>\n",
       "      <td>2021-03-21 17:30:05</td>\n",
       "      <td>1</td>\n",
       "    </tr>\n",
       "    <tr>\n",
       "      <th>4</th>\n",
       "      <td>5</td>\n",
       "      <td>52ac2e9a747aec013fcf5190</td>\n",
       "      <td>52ac2e9a747aec013fcf5190</td>\n",
       "      <td>510000000000</td>\n",
       "      <td>2020</td>\n",
       "      <td>本科第一批</td>\n",
       "      <td>NaN</td>\n",
       "      <td>695</td>\n",
       "      <td>71</td>\n",
       "      <td>166.0</td>\n",
       "      <td>NaN</td>\n",
       "      <td>NaN</td>\n",
       "      <td>NaN</td>\n",
       "      <td>NaN</td>\n",
       "      <td>2021-03-21 17:30:06</td>\n",
       "      <td>2021-03-21 17:30:06</td>\n",
       "      <td>2</td>\n",
       "    </tr>\n",
       "  </tbody>\n",
       "</table>\n",
       "</div>"
      ],
      "text/plain": [
       "   id            enroll_unit_id                 school_id  stu_province_id  \\\n",
       "0   1  52ac2e9a747aec013fcf5190  52ac2e9a747aec013fcf5190     510000000000   \n",
       "1   2  52ac2e9a747aec013fcf5190  52ac2e9a747aec013fcf5190     510000000000   \n",
       "2   3  52ac2e9a747aec013fcf5190  52ac2e9a747aec013fcf5190     510000000000   \n",
       "3   4  52ac2e9a747aec013fcf5190  52ac2e9a747aec013fcf5190     510000000000   \n",
       "4   5  52ac2e9a747aec013fcf5190  52ac2e9a747aec013fcf5190     510000000000   \n",
       "\n",
       "   enroll_year batch_name  admission_count  min_score  min_score_rank  \\\n",
       "0         2020      本科第一批              NaN        646               1   \n",
       "1         2019      本科第一批             23.0        658              38   \n",
       "2         2018      本科第一批             24.0        642              39   \n",
       "3         2017      本科第一批              NaN        650              25   \n",
       "4         2020      本科第一批              NaN        695              71   \n",
       "\n",
       "   min_score_diff  avg_score  avg_score_rank  max_score  max_score_rank  \\\n",
       "0           119.0        NaN             NaN        NaN             NaN   \n",
       "1           118.0        NaN             NaN        NaN             NaN   \n",
       "2            89.0      648.0            37.0      663.0            32.0   \n",
       "3           113.0        NaN             NaN      668.0            10.0   \n",
       "4           166.0        NaN             NaN        NaN             NaN   \n",
       "\n",
       "          create_time         update_time  wenli  \n",
       "0 2021-03-21 17:30:04 2021-03-21 17:30:04      1  \n",
       "1 2021-03-21 17:30:05 2021-03-21 17:30:05      1  \n",
       "2 2021-03-21 17:30:05 2021-03-21 17:30:05      1  \n",
       "3 2021-03-21 17:30:05 2021-03-21 17:30:05      1  \n",
       "4 2021-03-21 17:30:06 2021-03-21 17:30:06      2  "
      ]
     },
     "execution_count": 2,
     "metadata": {},
     "output_type": "execute_result"
    }
   ],
   "source": [
    "import pandas as pd\n",
    "import numpy as np\n",
    "data = pd.read_excel('school_enroll_unit_admission.xlsx')\n",
    "data.head(5)"
   ]
  },
  {
   "cell_type": "code",
   "execution_count": 28,
   "metadata": {},
   "outputs": [],
   "source": [
    "# data_2020 = data[data['enroll_year']==2020]\n",
    "# data_2019 = data[data['enroll_year']==2019]\n",
    "# data_2018 = data[data['enroll_year']==2018]\n",
    "# data_2017 = data[data['enroll_year']==2017]\n",
    "data2=data[['school_id','enroll_year','batch_name','min_score_diff','wenli','min_score','min_score_rank']]"
   ]
  },
  {
   "cell_type": "code",
   "execution_count": 29,
   "metadata": {},
   "outputs": [],
   "source": [
    "data2 =pd.get_dummies(data2,columns=['enroll_year','batch_name','wenli'])"
   ]
  },
  {
   "cell_type": "code",
   "execution_count": 30,
   "metadata": {},
   "outputs": [
    {
     "name": "stdout",
     "output_type": "stream",
     "text": [
      "<class 'pandas.core.frame.DataFrame'>\n",
      "RangeIndex: 17297 entries, 0 to 17296\n",
      "Data columns (total 13 columns):\n",
      "school_id           17297 non-null object\n",
      "min_score_diff      15099 non-null float64\n",
      "min_score           17297 non-null int64\n",
      "min_score_rank      17297 non-null int64\n",
      "enroll_year_2017    17297 non-null uint8\n",
      "enroll_year_2018    17297 non-null uint8\n",
      "enroll_year_2019    17297 non-null uint8\n",
      "enroll_year_2020    17297 non-null uint8\n",
      "batch_name_本科第一批    17297 non-null uint8\n",
      "batch_name_本科第二批    17297 non-null uint8\n",
      "batch_name_高职专科批    17297 non-null uint8\n",
      "wenli_1             17297 non-null uint8\n",
      "wenli_2             17297 non-null uint8\n",
      "dtypes: float64(1), int64(2), object(1), uint8(9)\n",
      "memory usage: 692.6+ KB\n"
     ]
    }
   ],
   "source": [
    "data2.info()"
   ]
  },
  {
   "cell_type": "code",
   "execution_count": 31,
   "metadata": {},
   "outputs": [],
   "source": [
    "data3 =data2.dropna()"
   ]
  },
  {
   "cell_type": "code",
   "execution_count": 32,
   "metadata": {},
   "outputs": [
    {
     "data": {
      "text/html": [
       "<div>\n",
       "<style scoped>\n",
       "    .dataframe tbody tr th:only-of-type {\n",
       "        vertical-align: middle;\n",
       "    }\n",
       "\n",
       "    .dataframe tbody tr th {\n",
       "        vertical-align: top;\n",
       "    }\n",
       "\n",
       "    .dataframe thead th {\n",
       "        text-align: right;\n",
       "    }\n",
       "</style>\n",
       "<table border=\"1\" class=\"dataframe\">\n",
       "  <thead>\n",
       "    <tr style=\"text-align: right;\">\n",
       "      <th></th>\n",
       "      <th>school_id</th>\n",
       "      <th>min_score_diff</th>\n",
       "      <th>min_score</th>\n",
       "      <th>min_score_rank</th>\n",
       "      <th>enroll_year_2017</th>\n",
       "      <th>enroll_year_2018</th>\n",
       "      <th>enroll_year_2019</th>\n",
       "      <th>enroll_year_2020</th>\n",
       "      <th>batch_name_本科第一批</th>\n",
       "      <th>batch_name_本科第二批</th>\n",
       "      <th>batch_name_高职专科批</th>\n",
       "      <th>wenli_1</th>\n",
       "      <th>wenli_2</th>\n",
       "    </tr>\n",
       "  </thead>\n",
       "  <tbody>\n",
       "    <tr>\n",
       "      <th>0</th>\n",
       "      <td>52ac2e9a747aec013fcf5190</td>\n",
       "      <td>119.0</td>\n",
       "      <td>646</td>\n",
       "      <td>1</td>\n",
       "      <td>0</td>\n",
       "      <td>0</td>\n",
       "      <td>0</td>\n",
       "      <td>1</td>\n",
       "      <td>1</td>\n",
       "      <td>0</td>\n",
       "      <td>0</td>\n",
       "      <td>1</td>\n",
       "      <td>0</td>\n",
       "    </tr>\n",
       "    <tr>\n",
       "      <th>1</th>\n",
       "      <td>52ac2e9a747aec013fcf5190</td>\n",
       "      <td>118.0</td>\n",
       "      <td>658</td>\n",
       "      <td>38</td>\n",
       "      <td>0</td>\n",
       "      <td>0</td>\n",
       "      <td>1</td>\n",
       "      <td>0</td>\n",
       "      <td>1</td>\n",
       "      <td>0</td>\n",
       "      <td>0</td>\n",
       "      <td>1</td>\n",
       "      <td>0</td>\n",
       "    </tr>\n",
       "    <tr>\n",
       "      <th>2</th>\n",
       "      <td>52ac2e9a747aec013fcf5190</td>\n",
       "      <td>89.0</td>\n",
       "      <td>642</td>\n",
       "      <td>39</td>\n",
       "      <td>0</td>\n",
       "      <td>1</td>\n",
       "      <td>0</td>\n",
       "      <td>0</td>\n",
       "      <td>1</td>\n",
       "      <td>0</td>\n",
       "      <td>0</td>\n",
       "      <td>1</td>\n",
       "      <td>0</td>\n",
       "    </tr>\n",
       "    <tr>\n",
       "      <th>3</th>\n",
       "      <td>52ac2e9a747aec013fcf5190</td>\n",
       "      <td>113.0</td>\n",
       "      <td>650</td>\n",
       "      <td>25</td>\n",
       "      <td>1</td>\n",
       "      <td>0</td>\n",
       "      <td>0</td>\n",
       "      <td>0</td>\n",
       "      <td>1</td>\n",
       "      <td>0</td>\n",
       "      <td>0</td>\n",
       "      <td>1</td>\n",
       "      <td>0</td>\n",
       "    </tr>\n",
       "    <tr>\n",
       "      <th>4</th>\n",
       "      <td>52ac2e9a747aec013fcf5190</td>\n",
       "      <td>166.0</td>\n",
       "      <td>695</td>\n",
       "      <td>71</td>\n",
       "      <td>0</td>\n",
       "      <td>0</td>\n",
       "      <td>0</td>\n",
       "      <td>1</td>\n",
       "      <td>1</td>\n",
       "      <td>0</td>\n",
       "      <td>0</td>\n",
       "      <td>0</td>\n",
       "      <td>1</td>\n",
       "    </tr>\n",
       "  </tbody>\n",
       "</table>\n",
       "</div>"
      ],
      "text/plain": [
       "                  school_id  min_score_diff  min_score  min_score_rank  \\\n",
       "0  52ac2e9a747aec013fcf5190           119.0        646               1   \n",
       "1  52ac2e9a747aec013fcf5190           118.0        658              38   \n",
       "2  52ac2e9a747aec013fcf5190            89.0        642              39   \n",
       "3  52ac2e9a747aec013fcf5190           113.0        650              25   \n",
       "4  52ac2e9a747aec013fcf5190           166.0        695              71   \n",
       "\n",
       "   enroll_year_2017  enroll_year_2018  enroll_year_2019  enroll_year_2020  \\\n",
       "0                 0                 0                 0                 1   \n",
       "1                 0                 0                 1                 0   \n",
       "2                 0                 1                 0                 0   \n",
       "3                 1                 0                 0                 0   \n",
       "4                 0                 0                 0                 1   \n",
       "\n",
       "   batch_name_本科第一批  batch_name_本科第二批  batch_name_高职专科批  wenli_1  wenli_2  \n",
       "0                 1                 0                 0        1        0  \n",
       "1                 1                 0                 0        1        0  \n",
       "2                 1                 0                 0        1        0  \n",
       "3                 1                 0                 0        1        0  \n",
       "4                 1                 0                 0        0        1  "
      ]
     },
     "execution_count": 32,
     "metadata": {},
     "output_type": "execute_result"
    }
   ],
   "source": [
    "data3.head()"
   ]
  },
  {
   "cell_type": "code",
   "execution_count": 33,
   "metadata": {},
   "outputs": [],
   "source": [
    "x = data3.drop(columns=['school_id','min_score'])"
   ]
  },
  {
   "cell_type": "code",
   "execution_count": 34,
   "metadata": {},
   "outputs": [],
   "source": [
    "y=data3['min_score'].values.reshape(-1,1)"
   ]
  },
  {
   "cell_type": "code",
   "execution_count": 35,
   "metadata": {},
   "outputs": [
    {
     "data": {
      "text/plain": [
       "2"
      ]
     },
     "execution_count": 35,
     "metadata": {},
     "output_type": "execute_result"
    }
   ],
   "source": [
    "x.ndim"
   ]
  },
  {
   "cell_type": "code",
   "execution_count": 36,
   "metadata": {},
   "outputs": [
    {
     "data": {
      "text/plain": [
       "2"
      ]
     },
     "execution_count": 36,
     "metadata": {},
     "output_type": "execute_result"
    }
   ],
   "source": [
    "y.ndim"
   ]
  },
  {
   "cell_type": "code",
   "execution_count": 37,
   "metadata": {},
   "outputs": [
    {
     "data": {
      "text/plain": [
       "(12079, 11)"
      ]
     },
     "execution_count": 37,
     "metadata": {},
     "output_type": "execute_result"
    }
   ],
   "source": [
    "from sklearn.model_selection import train_test_split\n",
    "\n",
    "x_train,x_test,y_train,y_test = train_test_split(x,y, test_size = 0.2, random_state = 41)\n",
    "x_train.shape"
   ]
  },
  {
   "cell_type": "code",
   "execution_count": 38,
   "metadata": {},
   "outputs": [],
   "source": [
    "# from sklearn.preprocessing import MinMaxScaler\n",
    "# minmax_scaler=MinMaxScaler()\n",
    "# minmax_scaler.fit(x)   #进行内部拟合，内部参数会发生变化\n",
    "# x=minmax_scaler.transform(x)\n",
    "# x"
   ]
  },
  {
   "cell_type": "code",
   "execution_count": 39,
   "metadata": {},
   "outputs": [
    {
     "data": {
      "text/plain": [
       "LinearRegression(copy_X=True, fit_intercept=True, n_jobs=None,\n",
       "         normalize=False)"
      ]
     },
     "execution_count": 39,
     "metadata": {},
     "output_type": "execute_result"
    }
   ],
   "source": [
    "from sklearn.linear_model import LinearRegression\n",
    "LR_reg=LinearRegression()\n",
    "#进行拟合\n",
    "LR_reg.fit(x_train,y_train)\n"
   ]
  },
  {
   "cell_type": "code",
   "execution_count": 15,
   "metadata": {},
   "outputs": [
    {
     "name": "stderr",
     "output_type": "stream",
     "text": [
      "C:\\Users\\NICAI\\Anaconda3\\lib\\site-packages\\sklearn\\preprocessing\\data.py:334: DataConversionWarning: Data with input dtype uint8, int64, float64 were all converted to float64 by MinMaxScaler.\n",
      "  return self.partial_fit(X, y)\n"
     ]
    },
    {
     "data": {
      "text/plain": [
       "118.03561079220462"
      ]
     },
     "execution_count": 15,
     "metadata": {},
     "output_type": "execute_result"
    }
   ],
   "source": [
    "# from sklearn.metrics import mean_squared_error\n",
    "# minmax_scaler=MinMaxScaler()\n",
    "# minmax_scaler.fit(x_test)   #进行内部拟合，内部参数会发生变化\n",
    "# scaler_housing=minmax_scaler.transform(x_test)\n",
    "# preds=LR_reg.predict(x_test)   #输入数据进行预测得到结果\n",
    "# mse=mean_squared_error(preds,y_test)   #使用均方误差来评价模型好坏，可以输出mse进行查看评价值\n",
    "# mse"
   ]
  },
  {
   "cell_type": "code",
   "execution_count": 16,
   "metadata": {},
   "outputs": [
    {
     "data": {
      "text/plain": [
       "0.992643195026812"
      ]
     },
     "execution_count": 16,
     "metadata": {},
     "output_type": "execute_result"
    }
   ],
   "source": [
    "# LR_reg.score(x_test,y_test)"
   ]
  },
  {
   "cell_type": "code",
   "execution_count": 40,
   "metadata": {},
   "outputs": [],
   "source": [
    "import numpy as np\n",
    "from sklearn.tree import DecisionTreeRegressor\n",
    "import matplotlib.pyplot as plt"
   ]
  },
  {
   "cell_type": "code",
   "execution_count": 50,
   "metadata": {},
   "outputs": [],
   "source": [
    "# Fit regression model\n",
    "regr_1 = DecisionTreeRegressor(max_depth=2)\n",
    "regr_2 = DecisionTreeRegressor(max_depth=5)\n",
    "regr_3 = DecisionTreeRegressor(max_depth=10)\n",
    "regr_1.fit(x_train, y_train)\n",
    "regr_2.fit(x_train, y_train)\n",
    "regr_3.fit(x_train, y_train)\n",
    "# Predxictx\n",
    "\n",
    "y_1 = regr_1.predict(x_test)\n",
    "y_2 = regr_2.predict(x_test)\n",
    "y_3 = regr_3.predict(x_test)\n"
   ]
  },
  {
   "cell_type": "code",
   "execution_count": 54,
   "metadata": {},
   "outputs": [
    {
     "data": {
      "text/plain": [
       "GridSearchCV(cv=5, error_score='raise-deprecating',\n",
       "       estimator=DecisionTreeRegressor(criterion='mse', max_depth=None, max_features=None,\n",
       "           max_leaf_nodes=None, min_impurity_decrease=0.0,\n",
       "           min_impurity_split=None, min_samples_leaf=1,\n",
       "           min_samples_split=2, min_weight_fraction_leaf=0.0,\n",
       "           presort=False, random_state=None, splitter='best'),\n",
       "       fit_params=None, iid='warn', n_jobs=None,\n",
       "       param_grid={'max_depth': [2, 3, 4, 5, 6, 7, 8, 9, 10, 11, 12, 13, 14, 15, 16, 17, 18, 19, 20, 21, 22, 23, 24, 25, 26, 27, 28, 29, 30, 31, 32, 33, 34, 35, 36, 37, 38, 39, 40, 41, 42, 43, 44, 45, 46, 47, 48, 49, 50, 51, 52, 53, 54, 55, 56, 57, 58, 59, 60, 61, 62, 63, 64, 65, 66, 67, 68, 69, 70, 71, 72, 73, 74, 75, 76, 77, 78, 79, 80, 81, 82, 83, 84, 85, 86, 87, 88, 89, 90, 91, 92, 93, 94, 95, 96, 97, 98, 99]},\n",
       "       pre_dispatch='2*n_jobs', refit=True, return_train_score='warn',\n",
       "       scoring='r2', verbose=0)"
      ]
     },
     "execution_count": 54,
     "metadata": {},
     "output_type": "execute_result"
    }
   ],
   "source": [
    "from sklearn.model_selection import GridSearchCV\n",
    "parameters ={'max_depth':[i for  i  in range(2,100)]}\n",
    "clf=DecisionTreeRegressor()\n",
    "grid_serch = GridSearchCV(clf,parameters,scoring='r2',cv=5)\n",
    "grid_serch.fit(x_train,y_train)"
   ]
  },
  {
   "cell_type": "code",
   "execution_count": 55,
   "metadata": {},
   "outputs": [
    {
     "data": {
      "text/plain": [
       "{'max_depth': 48}"
      ]
     },
     "execution_count": 55,
     "metadata": {},
     "output_type": "execute_result"
    }
   ],
   "source": [
    "grid_serch.best_params_"
   ]
  },
  {
   "cell_type": "code",
   "execution_count": 42,
   "metadata": {},
   "outputs": [
    {
     "data": {
      "text/plain": [
       "array([481.82046649, 587.99308118, 481.82046649, ..., 240.94180704,\n",
       "       481.82046649, 481.82046649])"
      ]
     },
     "execution_count": 42,
     "metadata": {},
     "output_type": "execute_result"
    }
   ],
   "source": [
    "y_1"
   ]
  },
  {
   "cell_type": "code",
   "execution_count": 57,
   "metadata": {},
   "outputs": [
    {
     "data": {
      "text/plain": [
       "DecisionTreeRegressor(criterion='mse', max_depth=48, max_features=None,\n",
       "           max_leaf_nodes=None, min_impurity_decrease=0.0,\n",
       "           min_impurity_split=None, min_samples_leaf=1,\n",
       "           min_samples_split=2, min_weight_fraction_leaf=0.0,\n",
       "           presort=False, random_state=None, splitter='best')"
      ]
     },
     "execution_count": 57,
     "metadata": {},
     "output_type": "execute_result"
    }
   ],
   "source": [
    "# Fit regression model\n",
    "regr_4 = DecisionTreeRegressor(max_depth=48)\n",
    "\n",
    "regr_4.fit(x_train, y_train)\n",
    "\n",
    "\n",
    "\n"
   ]
  },
  {
   "cell_type": "code",
   "execution_count": 58,
   "metadata": {},
   "outputs": [],
   "source": [
    "from sklearn.metrics import r2_score\n",
    "r2= r2_score(y_test,regr_4.predict(x_test))"
   ]
  },
  {
   "cell_type": "code",
   "execution_count": 59,
   "metadata": {},
   "outputs": [
    {
     "data": {
      "text/plain": [
       "0.9999698890442659"
      ]
     },
     "execution_count": 59,
     "metadata": {},
     "output_type": "execute_result"
    }
   ],
   "source": [
    "r2"
   ]
  },
  {
   "cell_type": "code",
   "execution_count": 43,
   "metadata": {},
   "outputs": [
    {
     "data": {
      "text/plain": [
       "array([525.0702439 , 578.01590457, 463.58624454, ..., 208.13700384,\n",
       "       525.0702439 , 487.76020408])"
      ]
     },
     "execution_count": 43,
     "metadata": {},
     "output_type": "execute_result"
    }
   ],
   "source": [
    "y_2"
   ]
  },
  {
   "cell_type": "code",
   "execution_count": 44,
   "metadata": {},
   "outputs": [],
   "source": [
    "from sklearn.metrics import accuracy_score,precision_score,recall_score,roc_curve"
   ]
  },
  {
   "cell_type": "code",
   "execution_count": 45,
   "metadata": {},
   "outputs": [
    {
     "data": {
      "text/plain": [
       "array([[537],\n",
       "       [559],\n",
       "       [463],\n",
       "       ...,\n",
       "       [221],\n",
       "       [539],\n",
       "       [508]], dtype=int64)"
      ]
     },
     "execution_count": 45,
     "metadata": {},
     "output_type": "execute_result"
    }
   ],
   "source": [
    "y_test"
   ]
  },
  {
   "cell_type": "code",
   "execution_count": 46,
   "metadata": {},
   "outputs": [
    {
     "data": {
      "text/plain": [
       "array([481, 587, 481, ..., 240, 481, 481])"
      ]
     },
     "execution_count": 46,
     "metadata": {},
     "output_type": "execute_result"
    }
   ],
   "source": [
    "y_1 = y_1.astype(int)\n",
    "y_1"
   ]
  },
  {
   "cell_type": "code",
   "execution_count": 24,
   "metadata": {},
   "outputs": [],
   "source": [
    "#score = precision_score(y_test,y_1)"
   ]
  },
  {
   "cell_type": "code",
   "execution_count": 25,
   "metadata": {},
   "outputs": [],
   "source": [
    "y_1 = regr_2.predict(x_test)"
   ]
  },
  {
   "cell_type": "code",
   "execution_count": 51,
   "metadata": {},
   "outputs": [
    {
     "name": "stderr",
     "output_type": "stream",
     "text": [
      "C:\\Users\\NICAI\\Anaconda3\\lib\\site-packages\\ipykernel_launcher.py:1: SettingWithCopyWarning: \n",
      "A value is trying to be set on a copy of a slice from a DataFrame.\n",
      "Try using .loc[row_indexer,col_indexer] = value instead\n",
      "\n",
      "See the caveats in the documentation: http://pandas.pydata.org/pandas-docs/stable/indexing.html#indexing-view-versus-copy\n",
      "  \"\"\"Entry point for launching an IPython kernel.\n",
      "C:\\Users\\NICAI\\Anaconda3\\lib\\site-packages\\ipykernel_launcher.py:2: SettingWithCopyWarning: \n",
      "A value is trying to be set on a copy of a slice from a DataFrame.\n",
      "Try using .loc[row_indexer,col_indexer] = value instead\n",
      "\n",
      "See the caveats in the documentation: http://pandas.pydata.org/pandas-docs/stable/indexing.html#indexing-view-versus-copy\n",
      "  \n",
      "C:\\Users\\NICAI\\Anaconda3\\lib\\site-packages\\ipykernel_launcher.py:3: SettingWithCopyWarning: \n",
      "A value is trying to be set on a copy of a slice from a DataFrame.\n",
      "Try using .loc[row_indexer,col_indexer] = value instead\n",
      "\n",
      "See the caveats in the documentation: http://pandas.pydata.org/pandas-docs/stable/indexing.html#indexing-view-versus-copy\n",
      "  This is separate from the ipykernel package so we can avoid doing imports until\n"
     ]
    }
   ],
   "source": [
    "data3['min_scoreyuce']=regr_2.predict(x)\n",
    "data3['min_scoreyuce2']=regr_1.predict(x)\n",
    "data3['min_scoreyuce3']=regr_3.predict(x)\n"
   ]
  },
  {
   "cell_type": "code",
   "execution_count": 52,
   "metadata": {},
   "outputs": [
    {
     "data": {
      "text/html": [
       "<div>\n",
       "<style scoped>\n",
       "    .dataframe tbody tr th:only-of-type {\n",
       "        vertical-align: middle;\n",
       "    }\n",
       "\n",
       "    .dataframe tbody tr th {\n",
       "        vertical-align: top;\n",
       "    }\n",
       "\n",
       "    .dataframe thead th {\n",
       "        text-align: right;\n",
       "    }\n",
       "</style>\n",
       "<table border=\"1\" class=\"dataframe\">\n",
       "  <thead>\n",
       "    <tr style=\"text-align: right;\">\n",
       "      <th></th>\n",
       "      <th>min_score</th>\n",
       "      <th>min_scoreyuce</th>\n",
       "      <th>min_scoreyuce2</th>\n",
       "      <th>min_scoreyuce3</th>\n",
       "    </tr>\n",
       "  </thead>\n",
       "  <tbody>\n",
       "    <tr>\n",
       "      <th>0</th>\n",
       "      <td>646</td>\n",
       "      <td>643.033113</td>\n",
       "      <td>587.993081</td>\n",
       "      <td>644.000000</td>\n",
       "    </tr>\n",
       "    <tr>\n",
       "      <th>1</th>\n",
       "      <td>658</td>\n",
       "      <td>643.033113</td>\n",
       "      <td>587.993081</td>\n",
       "      <td>658.040000</td>\n",
       "    </tr>\n",
       "    <tr>\n",
       "      <th>2</th>\n",
       "      <td>642</td>\n",
       "      <td>613.877193</td>\n",
       "      <td>587.993081</td>\n",
       "      <td>635.846154</td>\n",
       "    </tr>\n",
       "    <tr>\n",
       "      <th>3</th>\n",
       "      <td>650</td>\n",
       "      <td>643.033113</td>\n",
       "      <td>587.993081</td>\n",
       "      <td>650.000000</td>\n",
       "    </tr>\n",
       "    <tr>\n",
       "      <th>4</th>\n",
       "      <td>695</td>\n",
       "      <td>673.705128</td>\n",
       "      <td>587.993081</td>\n",
       "      <td>692.200000</td>\n",
       "    </tr>\n",
       "    <tr>\n",
       "      <th>5</th>\n",
       "      <td>706</td>\n",
       "      <td>673.705128</td>\n",
       "      <td>587.993081</td>\n",
       "      <td>705.500000</td>\n",
       "    </tr>\n",
       "    <tr>\n",
       "      <th>6</th>\n",
       "      <td>690</td>\n",
       "      <td>673.705128</td>\n",
       "      <td>587.993081</td>\n",
       "      <td>686.333333</td>\n",
       "    </tr>\n",
       "    <tr>\n",
       "      <th>7</th>\n",
       "      <td>688</td>\n",
       "      <td>673.705128</td>\n",
       "      <td>587.993081</td>\n",
       "      <td>686.333333</td>\n",
       "    </tr>\n",
       "    <tr>\n",
       "      <th>8</th>\n",
       "      <td>654</td>\n",
       "      <td>673.705128</td>\n",
       "      <td>587.993081</td>\n",
       "      <td>654.000000</td>\n",
       "    </tr>\n",
       "    <tr>\n",
       "      <th>9</th>\n",
       "      <td>666</td>\n",
       "      <td>673.705128</td>\n",
       "      <td>587.993081</td>\n",
       "      <td>666.000000</td>\n",
       "    </tr>\n",
       "    <tr>\n",
       "      <th>10</th>\n",
       "      <td>649</td>\n",
       "      <td>643.033113</td>\n",
       "      <td>587.993081</td>\n",
       "      <td>647.952381</td>\n",
       "    </tr>\n",
       "    <tr>\n",
       "      <th>11</th>\n",
       "      <td>652</td>\n",
       "      <td>643.033113</td>\n",
       "      <td>587.993081</td>\n",
       "      <td>652.000000</td>\n",
       "    </tr>\n",
       "    <tr>\n",
       "      <th>12</th>\n",
       "      <td>694</td>\n",
       "      <td>673.705128</td>\n",
       "      <td>587.993081</td>\n",
       "      <td>692.200000</td>\n",
       "    </tr>\n",
       "    <tr>\n",
       "      <th>13</th>\n",
       "      <td>705</td>\n",
       "      <td>673.705128</td>\n",
       "      <td>587.993081</td>\n",
       "      <td>705.500000</td>\n",
       "    </tr>\n",
       "    <tr>\n",
       "      <th>14</th>\n",
       "      <td>687</td>\n",
       "      <td>673.705128</td>\n",
       "      <td>587.993081</td>\n",
       "      <td>686.333333</td>\n",
       "    </tr>\n",
       "    <tr>\n",
       "      <th>15</th>\n",
       "      <td>687</td>\n",
       "      <td>673.705128</td>\n",
       "      <td>587.993081</td>\n",
       "      <td>686.333333</td>\n",
       "    </tr>\n",
       "    <tr>\n",
       "      <th>16</th>\n",
       "      <td>639</td>\n",
       "      <td>643.033113</td>\n",
       "      <td>587.993081</td>\n",
       "      <td>644.000000</td>\n",
       "    </tr>\n",
       "    <tr>\n",
       "      <th>17</th>\n",
       "      <td>650</td>\n",
       "      <td>643.033113</td>\n",
       "      <td>587.993081</td>\n",
       "      <td>658.040000</td>\n",
       "    </tr>\n",
       "    <tr>\n",
       "      <th>18</th>\n",
       "      <td>637</td>\n",
       "      <td>613.877193</td>\n",
       "      <td>587.993081</td>\n",
       "      <td>627.250000</td>\n",
       "    </tr>\n",
       "    <tr>\n",
       "      <th>19</th>\n",
       "      <td>638</td>\n",
       "      <td>643.033113</td>\n",
       "      <td>587.993081</td>\n",
       "      <td>641.000000</td>\n",
       "    </tr>\n",
       "    <tr>\n",
       "      <th>20</th>\n",
       "      <td>691</td>\n",
       "      <td>673.705128</td>\n",
       "      <td>587.993081</td>\n",
       "      <td>692.200000</td>\n",
       "    </tr>\n",
       "    <tr>\n",
       "      <th>21</th>\n",
       "      <td>703</td>\n",
       "      <td>673.705128</td>\n",
       "      <td>587.993081</td>\n",
       "      <td>702.500000</td>\n",
       "    </tr>\n",
       "    <tr>\n",
       "      <th>22</th>\n",
       "      <td>684</td>\n",
       "      <td>673.705128</td>\n",
       "      <td>587.993081</td>\n",
       "      <td>686.333333</td>\n",
       "    </tr>\n",
       "    <tr>\n",
       "      <th>23</th>\n",
       "      <td>674</td>\n",
       "      <td>673.705128</td>\n",
       "      <td>587.993081</td>\n",
       "      <td>674.400000</td>\n",
       "    </tr>\n",
       "    <tr>\n",
       "      <th>24</th>\n",
       "      <td>628</td>\n",
       "      <td>643.033113</td>\n",
       "      <td>587.993081</td>\n",
       "      <td>626.500000</td>\n",
       "    </tr>\n",
       "    <tr>\n",
       "      <th>25</th>\n",
       "      <td>644</td>\n",
       "      <td>643.033113</td>\n",
       "      <td>587.993081</td>\n",
       "      <td>647.952381</td>\n",
       "    </tr>\n",
       "    <tr>\n",
       "      <th>26</th>\n",
       "      <td>630</td>\n",
       "      <td>613.877193</td>\n",
       "      <td>587.993081</td>\n",
       "      <td>628.333333</td>\n",
       "    </tr>\n",
       "    <tr>\n",
       "      <th>27</th>\n",
       "      <td>633</td>\n",
       "      <td>643.033113</td>\n",
       "      <td>587.993081</td>\n",
       "      <td>634.750000</td>\n",
       "    </tr>\n",
       "    <tr>\n",
       "      <th>28</th>\n",
       "      <td>682</td>\n",
       "      <td>673.705128</td>\n",
       "      <td>587.993081</td>\n",
       "      <td>681.400000</td>\n",
       "    </tr>\n",
       "    <tr>\n",
       "      <th>29</th>\n",
       "      <td>691</td>\n",
       "      <td>673.705128</td>\n",
       "      <td>587.993081</td>\n",
       "      <td>692.000000</td>\n",
       "    </tr>\n",
       "    <tr>\n",
       "      <th>...</th>\n",
       "      <td>...</td>\n",
       "      <td>...</td>\n",
       "      <td>...</td>\n",
       "      <td>...</td>\n",
       "    </tr>\n",
       "    <tr>\n",
       "      <th>17250</th>\n",
       "      <td>196</td>\n",
       "      <td>175.363636</td>\n",
       "      <td>240.941807</td>\n",
       "      <td>196.400000</td>\n",
       "    </tr>\n",
       "    <tr>\n",
       "      <th>17251</th>\n",
       "      <td>227</td>\n",
       "      <td>208.137004</td>\n",
       "      <td>240.941807</td>\n",
       "      <td>226.966667</td>\n",
       "    </tr>\n",
       "    <tr>\n",
       "      <th>17252</th>\n",
       "      <td>361</td>\n",
       "      <td>369.478261</td>\n",
       "      <td>368.886870</td>\n",
       "      <td>361.000000</td>\n",
       "    </tr>\n",
       "    <tr>\n",
       "      <th>17253</th>\n",
       "      <td>211</td>\n",
       "      <td>208.137004</td>\n",
       "      <td>240.941807</td>\n",
       "      <td>211.692308</td>\n",
       "    </tr>\n",
       "    <tr>\n",
       "      <th>17254</th>\n",
       "      <td>283</td>\n",
       "      <td>280.116279</td>\n",
       "      <td>240.941807</td>\n",
       "      <td>284.560000</td>\n",
       "    </tr>\n",
       "    <tr>\n",
       "      <th>17261</th>\n",
       "      <td>246</td>\n",
       "      <td>242.025704</td>\n",
       "      <td>240.941807</td>\n",
       "      <td>253.076923</td>\n",
       "    </tr>\n",
       "    <tr>\n",
       "      <th>17262</th>\n",
       "      <td>265</td>\n",
       "      <td>242.025704</td>\n",
       "      <td>240.941807</td>\n",
       "      <td>263.763158</td>\n",
       "    </tr>\n",
       "    <tr>\n",
       "      <th>17265</th>\n",
       "      <td>370</td>\n",
       "      <td>389.736842</td>\n",
       "      <td>481.820466</td>\n",
       "      <td>368.717391</td>\n",
       "    </tr>\n",
       "    <tr>\n",
       "      <th>17266</th>\n",
       "      <td>345</td>\n",
       "      <td>346.172524</td>\n",
       "      <td>481.820466</td>\n",
       "      <td>345.181818</td>\n",
       "    </tr>\n",
       "    <tr>\n",
       "      <th>17267</th>\n",
       "      <td>292</td>\n",
       "      <td>277.453659</td>\n",
       "      <td>240.941807</td>\n",
       "      <td>292.000000</td>\n",
       "    </tr>\n",
       "    <tr>\n",
       "      <th>17268</th>\n",
       "      <td>249</td>\n",
       "      <td>280.116279</td>\n",
       "      <td>240.941807</td>\n",
       "      <td>250.833333</td>\n",
       "    </tr>\n",
       "    <tr>\n",
       "      <th>17269</th>\n",
       "      <td>242</td>\n",
       "      <td>242.025704</td>\n",
       "      <td>240.941807</td>\n",
       "      <td>241.052632</td>\n",
       "    </tr>\n",
       "    <tr>\n",
       "      <th>17270</th>\n",
       "      <td>222</td>\n",
       "      <td>208.137004</td>\n",
       "      <td>240.941807</td>\n",
       "      <td>220.156627</td>\n",
       "    </tr>\n",
       "    <tr>\n",
       "      <th>17272</th>\n",
       "      <td>151</td>\n",
       "      <td>175.363636</td>\n",
       "      <td>240.941807</td>\n",
       "      <td>151.000000</td>\n",
       "    </tr>\n",
       "    <tr>\n",
       "      <th>17275</th>\n",
       "      <td>151</td>\n",
       "      <td>175.363636</td>\n",
       "      <td>240.941807</td>\n",
       "      <td>151.000000</td>\n",
       "    </tr>\n",
       "    <tr>\n",
       "      <th>17277</th>\n",
       "      <td>348</td>\n",
       "      <td>346.172524</td>\n",
       "      <td>481.820466</td>\n",
       "      <td>347.800000</td>\n",
       "    </tr>\n",
       "    <tr>\n",
       "      <th>17278</th>\n",
       "      <td>296</td>\n",
       "      <td>305.523256</td>\n",
       "      <td>368.886870</td>\n",
       "      <td>296.000000</td>\n",
       "    </tr>\n",
       "    <tr>\n",
       "      <th>17279</th>\n",
       "      <td>303</td>\n",
       "      <td>277.453659</td>\n",
       "      <td>240.941807</td>\n",
       "      <td>302.333333</td>\n",
       "    </tr>\n",
       "    <tr>\n",
       "      <th>17280</th>\n",
       "      <td>268</td>\n",
       "      <td>280.116279</td>\n",
       "      <td>240.941807</td>\n",
       "      <td>266.800000</td>\n",
       "    </tr>\n",
       "    <tr>\n",
       "      <th>17281</th>\n",
       "      <td>181</td>\n",
       "      <td>175.363636</td>\n",
       "      <td>240.941807</td>\n",
       "      <td>181.571429</td>\n",
       "    </tr>\n",
       "    <tr>\n",
       "      <th>17282</th>\n",
       "      <td>203</td>\n",
       "      <td>208.137004</td>\n",
       "      <td>240.941807</td>\n",
       "      <td>205.365079</td>\n",
       "    </tr>\n",
       "    <tr>\n",
       "      <th>17283</th>\n",
       "      <td>255</td>\n",
       "      <td>280.116279</td>\n",
       "      <td>240.941807</td>\n",
       "      <td>250.833333</td>\n",
       "    </tr>\n",
       "    <tr>\n",
       "      <th>17284</th>\n",
       "      <td>203</td>\n",
       "      <td>242.025704</td>\n",
       "      <td>240.941807</td>\n",
       "      <td>202.133333</td>\n",
       "    </tr>\n",
       "    <tr>\n",
       "      <th>17286</th>\n",
       "      <td>231</td>\n",
       "      <td>242.025704</td>\n",
       "      <td>240.941807</td>\n",
       "      <td>231.125000</td>\n",
       "    </tr>\n",
       "    <tr>\n",
       "      <th>17287</th>\n",
       "      <td>319</td>\n",
       "      <td>302.648148</td>\n",
       "      <td>240.941807</td>\n",
       "      <td>317.857143</td>\n",
       "    </tr>\n",
       "    <tr>\n",
       "      <th>17288</th>\n",
       "      <td>248</td>\n",
       "      <td>242.025704</td>\n",
       "      <td>240.941807</td>\n",
       "      <td>245.963303</td>\n",
       "    </tr>\n",
       "    <tr>\n",
       "      <th>17291</th>\n",
       "      <td>351</td>\n",
       "      <td>346.172524</td>\n",
       "      <td>481.820466</td>\n",
       "      <td>351.096774</td>\n",
       "    </tr>\n",
       "    <tr>\n",
       "      <th>17292</th>\n",
       "      <td>281</td>\n",
       "      <td>277.453659</td>\n",
       "      <td>240.941807</td>\n",
       "      <td>281.416667</td>\n",
       "    </tr>\n",
       "    <tr>\n",
       "      <th>17293</th>\n",
       "      <td>284</td>\n",
       "      <td>280.116279</td>\n",
       "      <td>240.941807</td>\n",
       "      <td>285.333333</td>\n",
       "    </tr>\n",
       "    <tr>\n",
       "      <th>17294</th>\n",
       "      <td>170</td>\n",
       "      <td>175.363636</td>\n",
       "      <td>240.941807</td>\n",
       "      <td>169.333333</td>\n",
       "    </tr>\n",
       "  </tbody>\n",
       "</table>\n",
       "<p>15099 rows × 4 columns</p>\n",
       "</div>"
      ],
      "text/plain": [
       "       min_score  min_scoreyuce  min_scoreyuce2  min_scoreyuce3\n",
       "0            646     643.033113      587.993081      644.000000\n",
       "1            658     643.033113      587.993081      658.040000\n",
       "2            642     613.877193      587.993081      635.846154\n",
       "3            650     643.033113      587.993081      650.000000\n",
       "4            695     673.705128      587.993081      692.200000\n",
       "5            706     673.705128      587.993081      705.500000\n",
       "6            690     673.705128      587.993081      686.333333\n",
       "7            688     673.705128      587.993081      686.333333\n",
       "8            654     673.705128      587.993081      654.000000\n",
       "9            666     673.705128      587.993081      666.000000\n",
       "10           649     643.033113      587.993081      647.952381\n",
       "11           652     643.033113      587.993081      652.000000\n",
       "12           694     673.705128      587.993081      692.200000\n",
       "13           705     673.705128      587.993081      705.500000\n",
       "14           687     673.705128      587.993081      686.333333\n",
       "15           687     673.705128      587.993081      686.333333\n",
       "16           639     643.033113      587.993081      644.000000\n",
       "17           650     643.033113      587.993081      658.040000\n",
       "18           637     613.877193      587.993081      627.250000\n",
       "19           638     643.033113      587.993081      641.000000\n",
       "20           691     673.705128      587.993081      692.200000\n",
       "21           703     673.705128      587.993081      702.500000\n",
       "22           684     673.705128      587.993081      686.333333\n",
       "23           674     673.705128      587.993081      674.400000\n",
       "24           628     643.033113      587.993081      626.500000\n",
       "25           644     643.033113      587.993081      647.952381\n",
       "26           630     613.877193      587.993081      628.333333\n",
       "27           633     643.033113      587.993081      634.750000\n",
       "28           682     673.705128      587.993081      681.400000\n",
       "29           691     673.705128      587.993081      692.000000\n",
       "...          ...            ...             ...             ...\n",
       "17250        196     175.363636      240.941807      196.400000\n",
       "17251        227     208.137004      240.941807      226.966667\n",
       "17252        361     369.478261      368.886870      361.000000\n",
       "17253        211     208.137004      240.941807      211.692308\n",
       "17254        283     280.116279      240.941807      284.560000\n",
       "17261        246     242.025704      240.941807      253.076923\n",
       "17262        265     242.025704      240.941807      263.763158\n",
       "17265        370     389.736842      481.820466      368.717391\n",
       "17266        345     346.172524      481.820466      345.181818\n",
       "17267        292     277.453659      240.941807      292.000000\n",
       "17268        249     280.116279      240.941807      250.833333\n",
       "17269        242     242.025704      240.941807      241.052632\n",
       "17270        222     208.137004      240.941807      220.156627\n",
       "17272        151     175.363636      240.941807      151.000000\n",
       "17275        151     175.363636      240.941807      151.000000\n",
       "17277        348     346.172524      481.820466      347.800000\n",
       "17278        296     305.523256      368.886870      296.000000\n",
       "17279        303     277.453659      240.941807      302.333333\n",
       "17280        268     280.116279      240.941807      266.800000\n",
       "17281        181     175.363636      240.941807      181.571429\n",
       "17282        203     208.137004      240.941807      205.365079\n",
       "17283        255     280.116279      240.941807      250.833333\n",
       "17284        203     242.025704      240.941807      202.133333\n",
       "17286        231     242.025704      240.941807      231.125000\n",
       "17287        319     302.648148      240.941807      317.857143\n",
       "17288        248     242.025704      240.941807      245.963303\n",
       "17291        351     346.172524      481.820466      351.096774\n",
       "17292        281     277.453659      240.941807      281.416667\n",
       "17293        284     280.116279      240.941807      285.333333\n",
       "17294        170     175.363636      240.941807      169.333333\n",
       "\n",
       "[15099 rows x 4 columns]"
      ]
     },
     "execution_count": 52,
     "metadata": {},
     "output_type": "execute_result"
    }
   ],
   "source": [
    "data3[['min_score','min_scoreyuce','min_scoreyuce2','min_scoreyuce3']]  #对比观察。"
   ]
  },
  {
   "cell_type": "code",
   "execution_count": null,
   "metadata": {},
   "outputs": [],
   "source": []
  }
 ],
 "metadata": {
  "kernelspec": {
   "display_name": "Python 3",
   "language": "python",
   "name": "python3"
  },
  "language_info": {
   "codemirror_mode": {
    "name": "ipython",
    "version": 3
   },
   "file_extension": ".py",
   "mimetype": "text/x-python",
   "name": "python",
   "nbconvert_exporter": "python",
   "pygments_lexer": "ipython3",
   "version": "3.7.3"
  }
 },
 "nbformat": 4,
 "nbformat_minor": 2
}
